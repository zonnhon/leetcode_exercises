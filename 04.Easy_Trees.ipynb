{
 "cells": [
  {
   "cell_type": "code",
   "execution_count": 1,
   "id": "cec2c0ab",
   "metadata": {},
   "outputs": [],
   "source": [
    "from typing import Optional"
   ]
  },
  {
   "cell_type": "code",
   "execution_count": 2,
   "id": "b2cbe973",
   "metadata": {},
   "outputs": [],
   "source": [
    "# Definition for a binary tree node.\n",
    "class TreeNode:\n",
    "    def __init__(self, val=0, left=None, right=None):\n",
    "        self.val = val\n",
    "        self.left = left\n",
    "        self.right = right"
   ]
  },
  {
   "cell_type": "markdown",
   "id": "54d68bde",
   "metadata": {},
   "source": [
    "# Maximum Depth of Binary Tree\n",
    "Given the root of a binary tree, return its maximum depth.\n",
    "\n",
    "A binary tree's maximum depth is the number of nodes along the longest path from the root node down to the farthest leaf node."
   ]
  },
  {
   "cell_type": "markdown",
   "id": "15e674a1",
   "metadata": {},
   "source": [
    "思考: 找最大深度，用queue進行BFS\n",
    "79.97%/\n",
    "O(n); O(n)"
   ]
  },
  {
   "cell_type": "code",
   "execution_count": 3,
   "id": "e482a83e",
   "metadata": {},
   "outputs": [],
   "source": [
    "# Definition for a binary tree node.\n",
    "# class TreeNode:\n",
    "#     def __init__(self, val=0, left=None, right=None):\n",
    "#         self.val = val\n",
    "#         self.left = left\n",
    "#         self.right = right\n",
    "from collections import deque\n",
    "class Solution:\n",
    "    def maxDepth(self, root: Optional[TreeNode]) -> int:\n",
    "        if not root:\n",
    "            return 0\n",
    "        queue = deque([(root, 1)])\n",
    "        max_d = 1\n",
    "        while queue:\n",
    "            node, level = queue.pop()\n",
    "            if node.left:\n",
    "                queue.append((node.left, level+1))\n",
    "            if node.right:\n",
    "                queue.append((node.right, level+1))\n",
    "            max_d = max(max_d, level)\n",
    "        return max_d\n",
    "            "
   ]
  },
  {
   "cell_type": "markdown",
   "id": "13f4955c",
   "metadata": {},
   "source": [
    "DFS\\\n",
    "28.92%"
   ]
  },
  {
   "cell_type": "code",
   "execution_count": null,
   "id": "edec8bd4",
   "metadata": {},
   "outputs": [],
   "source": [
    "# Definition for a binary tree node.\n",
    "# class TreeNode:\n",
    "#     def __init__(self, val=0, left=None, right=None):\n",
    "#         self.val = val\n",
    "#         self.left = left\n",
    "#         self.right = right\n",
    "class Solution:\n",
    "    def maxDepth(self, root: Optional[TreeNode]) -> int:\n",
    "        if not root:\n",
    "            return 0\n",
    "        left_d = self.maxDepth(root.left)\n",
    "        right_d = self.maxDepth(root.right)\n",
    "        return max(left_d, right_d)+1"
   ]
  },
  {
   "cell_type": "markdown",
   "id": "eaaad932",
   "metadata": {},
   "source": [
    "# Given the root of a binary tree, determine if it is a valid binary search tree (BST).\n",
    "\n",
    "A valid BST is defined as follows:\n",
    "\n",
    "The left subtree of a node contains only nodes with keys less than the node's key.\n",
    "The right subtree of a node contains only nodes with keys greater than the node's key.\n",
    "Both the left and right subtrees must also be binary search trees."
   ]
  },
  {
   "cell_type": "markdown",
   "id": "f40898e3",
   "metadata": {},
   "source": [
    "思考: in-order以左中右順序recursive搜尋，一開始搜尋到最左下，以prev記錄前一個節點值，跟現在指向的節點比較\\\n",
    "O(n); O(h)"
   ]
  },
  {
   "cell_type": "code",
   "execution_count": null,
   "id": "4430dc4a",
   "metadata": {},
   "outputs": [],
   "source": [
    "# Definition for a binary tree node.\n",
    "# class TreeNode:\n",
    "#     def __init__(self, val=0, left=None, right=None):\n",
    "#         self.val = val\n",
    "#         self.left = left\n",
    "#         self.right = right\n",
    "\n",
    "class Solution:\n",
    "    def isValidBST(self, root: Optional[TreeNode]) -> bool:\n",
    "        self.prev = None\n",
    "        \n",
    "        def helper(node):\n",
    "            if not node:\n",
    "                return True\n",
    "            if not helper(node.left):\n",
    "                return False\n",
    "            if self.prev and self.prev.val>=node.val:\n",
    "                return False\n",
    "            self.prev = node\n",
    "            return helper(node.right)\n",
    "        \n",
    "        return helper(root)"
   ]
  },
  {
   "cell_type": "markdown",
   "id": "797c3645",
   "metadata": {},
   "source": [
    "# Symmetric Tree\n",
    "Given the root of a binary tree, check whether it is a mirror of itself (i.e., symmetric around its center)."
   ]
  },
  {
   "cell_type": "markdown",
   "id": "b12751c0",
   "metadata": {},
   "source": [
    "樹是否對稱，recursive自訂function檢查兩個節點是否對稱\n",
    "70.4%\\\n",
    "O(n); O(h)"
   ]
  },
  {
   "cell_type": "code",
   "execution_count": 4,
   "id": "f3b9bb6f",
   "metadata": {},
   "outputs": [],
   "source": [
    "# Definition for a binary tree node.\n",
    "# class TreeNode:\n",
    "#     def __init__(self, val=0, left=None, right=None):\n",
    "#         self.val = val\n",
    "#         self.left = left\n",
    "#         self.right = right\n",
    "from collections import deque\n",
    "class Solution:\n",
    "    def isSymmetric(self, root: Optional[TreeNode]) -> bool:\n",
    "        \n",
    "        def helper(node_l, node_r):\n",
    "            if node_l is None and node_r is None:\n",
    "                return True\n",
    "            if node_l is None or node_r is None:\n",
    "                return False\n",
    "            if not helper(node_l.left, node_r.right):\n",
    "                return False\n",
    "            if not helper(node_l.right, node_r.left):\n",
    "                return False\n",
    "            if node_l.val == node_r.val:\n",
    "                return True\n",
    "            else:\n",
    "                return False\n",
    "        \n",
    "        return helper(root.left, root.right)"
   ]
  },
  {
   "cell_type": "markdown",
   "id": "b9e7e6d4",
   "metadata": {},
   "source": [
    "# Binary Tree Level Order Traversal\n",
    "Given the root of a binary tree, return the level order traversal of its nodes' values. (i.e., from left to right, level by level)."
   ]
  },
  {
   "cell_type": "markdown",
   "id": "1542f587",
   "metadata": {},
   "source": [
    "一層一層處理，將非None的node加到下一層"
   ]
  },
  {
   "cell_type": "code",
   "execution_count": null,
   "id": "e1f6a872",
   "metadata": {},
   "outputs": [],
   "source": [
    "# Definition for a binary tree node.\n",
    "# class TreeNode:\n",
    "#     def __init__(self, val=0, left=None, right=None):\n",
    "#         self.val = val\n",
    "#         self.left = left\n",
    "#         self.right = right\n",
    "from collections import deque\n",
    "class Solution:\n",
    "    def levelOrder(self, root: Optional[TreeNode]) -> List[List[int]]:\n",
    "        if not root:\n",
    "            return []\n",
    "        res = []\n",
    "        level = [root]\n",
    "        while level:\n",
    "            res.append([node.val for node in level])\n",
    "            tmp = []\n",
    "            for node in level:\n",
    "                tmp.extend([node.left, node.right])\n",
    "            level = [node for node in tmp if node]\n",
    "        return res"
   ]
  },
  {
   "cell_type": "markdown",
   "id": "d5f38ac2",
   "metadata": {},
   "source": [
    "用queue"
   ]
  },
  {
   "cell_type": "code",
   "execution_count": null,
   "id": "df65b91f",
   "metadata": {},
   "outputs": [],
   "source": [
    "# Definition for a binary tree node.\n",
    "# class TreeNode:\n",
    "#     def __init__(self, val=0, left=None, right=None):\n",
    "#         self.val = val\n",
    "#         self.left = left\n",
    "#         self.right = right\n",
    "from collections import deque\n",
    "class Solution:\n",
    "    def levelOrder(self, root: Optional[TreeNode]) -> List[List[int]]:\n",
    "        if not root:\n",
    "            return []\n",
    "        res = []\n",
    "        queue = deque([root])\n",
    "        while queue:\n",
    "            level=[]\n",
    "            for _ in range(len(queue)):\n",
    "                q = queue.popleft()\n",
    "                level.append(q.val)\n",
    "                if q.left:\n",
    "                    queue.append(q.left)\n",
    "                if q.right:\n",
    "                    queue.append(q.right)\n",
    "            res.append(level)\n",
    "        return res"
   ]
  },
  {
   "cell_type": "markdown",
   "id": "d6b63ff8",
   "metadata": {},
   "source": [
    "# Convert Sorted Array to Binary Search Tree\n",
    "Given an integer array nums where the elements are sorted in ascending order, convert it to a height-balanced binary search tree."
   ]
  },
  {
   "cell_type": "markdown",
   "id": "88b74ed6",
   "metadata": {},
   "source": [
    "取list中點為root，將左半部與右半部轉換成左右子樹，recurvise下去"
   ]
  },
  {
   "cell_type": "code",
   "execution_count": null,
   "id": "e5ea79fe",
   "metadata": {},
   "outputs": [],
   "source": [
    "# Definition for a binary tree node.\n",
    "# class TreeNode:\n",
    "#     def __init__(self, val=0, left=None, right=None):\n",
    "#         self.val = val\n",
    "#         self.left = left\n",
    "#         self.right = right\n",
    "class Solution:\n",
    "    def sortedArrayToBST(self, nums: List[int]) -> Optional[TreeNode]:\n",
    "        if not nums:\n",
    "            return None\n",
    "        index_mid = len(nums)//2\n",
    "        node =TreeNode(nums[index_mid])\n",
    "        node.left = self.sortedArrayToBST(nums[:index_mid])\n",
    "        node.right = self.sortedArrayToBST(nums[index_mid+1:])\n",
    "        return node"
   ]
  },
  {
   "cell_type": "code",
   "execution_count": null,
   "id": "3633d27a",
   "metadata": {},
   "outputs": [],
   "source": []
  }
 ],
 "metadata": {
  "kernelspec": {
   "display_name": "Python 3 (ipykernel)",
   "language": "python",
   "name": "python3"
  },
  "language_info": {
   "codemirror_mode": {
    "name": "ipython",
    "version": 3
   },
   "file_extension": ".py",
   "mimetype": "text/x-python",
   "name": "python",
   "nbconvert_exporter": "python",
   "pygments_lexer": "ipython3",
   "version": "3.8.10"
  }
 },
 "nbformat": 4,
 "nbformat_minor": 5
}
