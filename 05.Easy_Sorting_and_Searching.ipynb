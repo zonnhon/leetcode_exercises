{
 "cells": [
  {
   "cell_type": "code",
   "execution_count": null,
   "id": "15da83d9",
   "metadata": {},
   "outputs": [],
   "source": []
  },
  {
   "cell_type": "markdown",
   "id": "8b19ab4e",
   "metadata": {},
   "source": [
    "# Merge Sorted Array\n",
    "You are given two integer arrays nums1 and nums2, sorted in non-decreasing order, and two integers m and n, representing the number of elements in nums1 and nums2 respectively.\n",
    "\n",
    "Merge nums1 and nums2 into a single array sorted in non-decreasing order.\n",
    "\n",
    "The final sorted array should not be returned by the function, but instead be stored inside the array nums1. To accommodate this, nums1 has a length of m + n, where the first m elements denote the elements that should be merged, and the last n elements are set to 0 and should be ignored. nums2 has a length of n."
   ]
  },
  {
   "cell_type": "markdown",
   "id": "4a3b634a",
   "metadata": {},
   "source": [
    "兩個array各一個指標比大小，並放入新的array\\\n",
    "20%\\\n",
    "O(m+n); O(1)"
   ]
  },
  {
   "cell_type": "code",
   "execution_count": null,
   "id": "0728e1d3",
   "metadata": {},
   "outputs": [],
   "source": [
    "class Solution:\n",
    "    def merge(self, nums1: List[int], m: int, nums2: List[int], n: int) -> None:\n",
    "        \"\"\"\n",
    "        Do not return anything, modify nums1 in-place instead.\n",
    "        \"\"\"\n",
    "        nums3=[]\n",
    "        p1 = 0\n",
    "        p2 = 0\n",
    "        while p1 < m and p2 < n:\n",
    "            if nums1[p1]<=nums2[p2]:\n",
    "                nums3.append(nums1[p1])\n",
    "                p1+=1\n",
    "            else:\n",
    "                nums3.append(nums2[p2])\n",
    "                p2+=1\n",
    "        if p1 < m:\n",
    "            nums3.extend(nums1[p1:m])\n",
    "        if p2 < n:\n",
    "            nums3.extend(nums2[p2:n])\n",
    "        if len(nums1)> m+n:\n",
    "            nums1[:m+n] = nums3\n",
    "            nums1=muns1[:m+n]\n",
    "        else:\n",
    "            nums1[:]=nums3[:len(nums1)]\n",
    "            nums1.extend(nums3[len(nums1):])"
   ]
  },
  {
   "cell_type": "markdown",
   "id": "378418c7",
   "metadata": {},
   "source": [
    "因nums1長度為m+n，但只有前m個值有用到，由m+n-1倒著填回去"
   ]
  },
  {
   "cell_type": "code",
   "execution_count": null,
   "id": "ec595a08",
   "metadata": {},
   "outputs": [],
   "source": [
    "class Solution:\n",
    "    def merge(self, nums1: List[int], m: int, nums2: List[int], n: int) -> None:\n",
    "        \"\"\"\n",
    "        Do not return anything, modify nums1 in-place instead.\n",
    "        \"\"\"\n",
    "        while m>0 and n>0:\n",
    "            if nums1[m-1]>nums2[n-1]:\n",
    "                nums1[m+n-1] = nums1[m-1]\n",
    "                m-=1\n",
    "            else:\n",
    "                nums1[m+n-1] = nums2[n-1]\n",
    "                n-=1\n",
    "        if n>0:\n",
    "            nums1[:n]=nums2[:n]\n",
    "                "
   ]
  },
  {
   "cell_type": "markdown",
   "id": "609293ea",
   "metadata": {},
   "source": [
    "# First Bad Version\n",
    "You are a product manager and currently leading a team to develop a new product. Unfortunately, the latest version of your product fails the quality check. Since each version is developed based on the previous version, all the versions after a bad version are also bad.\n",
    "\n",
    "Suppose you have n versions [1, 2, ..., n] and you want to find out the first bad one, which causes all the following ones to be bad.\n",
    "\n",
    "You are given an API bool isBadVersion(version) which returns whether version is bad. Implement a function to find the first bad version. You should minimize the number of calls to the API."
   ]
  },
  {
   "cell_type": "markdown",
   "id": "0856c798",
   "metadata": {},
   "source": [
    "設upper=n, lower=1，nn為中間值，持續對半切(二分查找)直到upper lower相鄰，檢查lower是否bad\n",
    "41.59%\n",
    "O(log n ); O(1)"
   ]
  },
  {
   "cell_type": "code",
   "execution_count": null,
   "id": "2dc2607a",
   "metadata": {},
   "outputs": [],
   "source": [
    "# The isBadVersion API is already defined for you.\n",
    "# def isBadVersion(version: int) -> bool:\n",
    "\n",
    "class Solution:\n",
    "    def firstBadVersion(self, n: int) -> int:\n",
    "        if n == 1:\n",
    "            return 1\n",
    "        if n == 2:\n",
    "            if isBadVersion(1):\n",
    "                return 1\n",
    "            else:\n",
    "                return 2\n",
    "        upper=n\n",
    "        lower=1\n",
    "        while lower+1<upper:\n",
    "            nn = (lower+upper)//2\n",
    "            if isBadVersion(nn):\n",
    "                upper = nn\n",
    "            else:\n",
    "                lower = nn\n",
    "        if isBadVersion(lower):\n",
    "            return lower\n",
    "        else:\n",
    "            return upper"
   ]
  },
  {
   "cell_type": "markdown",
   "id": "9c73047a",
   "metadata": {},
   "source": [
    "改良，判定為False時，使lower=nn+1"
   ]
  },
  {
   "cell_type": "code",
   "execution_count": null,
   "id": "48015d6d",
   "metadata": {},
   "outputs": [],
   "source": [
    "# The isBadVersion API is already defined for you.\n",
    "# def isBadVersion(version: int) -> bool:\n",
    "\n",
    "class Solution:\n",
    "    def firstBadVersion(self, n: int) -> int:\n",
    "        if n == 1:\n",
    "            return 1\n",
    "\n",
    "        upper=n\n",
    "        lower=1\n",
    "        while lower<upper:\n",
    "            nn = (lower+upper)//2\n",
    "            if isBadVersion(nn):\n",
    "                upper = nn\n",
    "            else:\n",
    "                lower = nn+1\n",
    "        return lower"
   ]
  },
  {
   "cell_type": "code",
   "execution_count": null,
   "id": "e1aaa42c",
   "metadata": {},
   "outputs": [],
   "source": []
  },
  {
   "cell_type": "code",
   "execution_count": null,
   "id": "a8bd6f70",
   "metadata": {},
   "outputs": [],
   "source": []
  },
  {
   "cell_type": "code",
   "execution_count": null,
   "id": "d65c79d5",
   "metadata": {},
   "outputs": [],
   "source": []
  }
 ],
 "metadata": {
  "kernelspec": {
   "display_name": "Python 3 (ipykernel)",
   "language": "python",
   "name": "python3"
  },
  "language_info": {
   "codemirror_mode": {
    "name": "ipython",
    "version": 3
   },
   "file_extension": ".py",
   "mimetype": "text/x-python",
   "name": "python",
   "nbconvert_exporter": "python",
   "pygments_lexer": "ipython3",
   "version": "3.8.10"
  }
 },
 "nbformat": 4,
 "nbformat_minor": 5
}
