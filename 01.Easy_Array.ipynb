{
 "cells": [
  {
   "cell_type": "code",
   "execution_count": 1,
   "id": "7d8f127e",
   "metadata": {},
   "outputs": [],
   "source": [
    "from typing import List"
   ]
  },
  {
   "cell_type": "markdown",
   "id": "ceba1c4a",
   "metadata": {},
   "source": [
    "# Remove Duplicates from Sorted Array"
   ]
  },
  {
   "cell_type": "markdown",
   "id": "3d163cf6",
   "metadata": {},
   "source": [
    "Given an integer array nums sorted in non-decreasing order, remove the duplicates in-place such that each unique element appears only once. The relative order of the elements should be kept the same. Then return the number of unique elements in nums.\n",
    "\n",
    "Consider the number of unique elements of nums to be k, to get accepted, you need to do the following things:\n",
    "\n",
    "Change the array nums such that the first k elements of nums contain the unique elements in the order they were present in nums initially. The remaining elements of nums are not important as well as the size of nums.\n",
    "Return k."
   ]
  },
  {
   "cell_type": "markdown",
   "id": "2162320a",
   "metadata": {},
   "source": [
    "思考:移除相同的element，用2 points，p0指向現在位置，p1指向與p0的值不同的位置，當p0與p1值不同時將p0+1的值替換成p1的值且該迴圈p0+1，每個迴圈p1+1\\\n",
    "其實不用del nums[p0+1:]"
   ]
  },
  {
   "cell_type": "code",
   "execution_count": 2,
   "id": "5dd442f4",
   "metadata": {},
   "outputs": [],
   "source": [
    "class Solution:\n",
    "    def removeDuplicates(self, nums: List[int]) -> int:\n",
    "        if len(nums)==1:\n",
    "            return 1\n",
    "        p0=0\n",
    "        p1=1\n",
    "        while p1<len(nums):\n",
    "            if nums[p0]==nums[p1]:\n",
    "                p1+=1\n",
    "            else:\n",
    "                nums[p0+1]=nums[p1]\n",
    "                p0+=1\n",
    "                p1+=1\n",
    "        if p0<len(nums):\n",
    "            del nums[p0+1:]\n",
    "        return len(nums)\n",
    "            "
   ]
  },
  {
   "cell_type": "markdown",
   "id": "95593968",
   "metadata": {},
   "source": [
    "# Best Time to Buy and Sell Stock II"
   ]
  },
  {
   "cell_type": "markdown",
   "id": "7bddaf7f",
   "metadata": {},
   "source": [
    "You are given an integer array prices where prices[i] is the price of a given stock on the ith day.\n",
    "\n",
    "On each day, you may decide to buy and/or sell the stock. You can only hold at most one share of the stock at any time. However, you can buy it then immediately sell it on the same day.\n",
    "\n",
    "Find and return the maximum profit you can achieve."
   ]
  },
  {
   "cell_type": "markdown",
   "id": "d1e1efd8",
   "metadata": {},
   "source": [
    "思考: 用2 points，每個迴圈最後p1+=1，下降時p0=p1，p0指向區間谷底，區間峰值時賣出tmp=prices[p1]-prices[p0]，p0=p1\\\n",
    "忘記考慮p1指向最後一個element的情形"
   ]
  },
  {
   "cell_type": "code",
   "execution_count": 3,
   "id": "2391da5b",
   "metadata": {},
   "outputs": [],
   "source": [
    "class Solution:\n",
    "    def maxProfit(self, prices: List[int]) -> int:\n",
    "        if len(prices)==1:\n",
    "            return 0\n",
    "        p0=0\n",
    "        p1=1\n",
    "        profit=0\n",
    "        while p1<len(prices):\n",
    "            if prices[p1]<prices[p0]:\n",
    "                p0=p1\n",
    "                p1+=1\n",
    "            else:\n",
    "                if p1+1<len(prices) and prices[p1]>prices[p1+1]:\n",
    "                    tmp=prices[p1]-prices[p0]\n",
    "                    profit+=tmp\n",
    "                    p0=p1\n",
    "                    p1+=1\n",
    "                elif p1+1==len(prices) and prices[p1]>prices[p0]:\n",
    "                    tmp=prices[p1]-prices[p0]\n",
    "                    profit+=tmp\n",
    "                    p0=p1\n",
    "                    p1+=1\n",
    "                else:\n",
    "                    p1+=1\n",
    "        return profit"
   ]
  },
  {
   "cell_type": "markdown",
   "id": "aabcd80b",
   "metadata": {},
   "source": [
    "最乾淨解，只要上升就將差價加入profit"
   ]
  },
  {
   "cell_type": "code",
   "execution_count": 4,
   "id": "fe1cb4e0",
   "metadata": {},
   "outputs": [],
   "source": [
    "class Solution:\n",
    "    def maxProfit(self, P: List[int]) -> int:\n",
    "        return sum(P[i]-P[i-1] if P[i] > P[i-1] else 0 for i in range(1, len(P)))"
   ]
  },
  {
   "cell_type": "markdown",
   "id": "e16b3113",
   "metadata": {},
   "source": [
    "# Rotate Array"
   ]
  },
  {
   "cell_type": "markdown",
   "id": "eff9c47b",
   "metadata": {},
   "source": [
    "Given an integer array nums, rotate the array to the right by k steps, where k is non-negative."
   ]
  },
  {
   "cell_type": "markdown",
   "id": "b50435b5",
   "metadata": {},
   "source": [
    "思考:用tmp暫存array會被覆蓋的區域"
   ]
  },
  {
   "cell_type": "code",
   "execution_count": 5,
   "id": "bc09b928",
   "metadata": {},
   "outputs": [],
   "source": [
    "class Solution:\n",
    "    def rotate(self, nums: List[int], k: int) -> None:\n",
    "        \"\"\"\n",
    "        Do not return anything, modify nums in-place instead.\n",
    "        \"\"\"\n",
    "        if k%len(nums)>0:\n",
    "            k = k%len(nums)\n",
    "            tmp=nums[:len(nums)-k]\n",
    "            nums[:k]=nums[-k:]\n",
    "            nums[k:]=tmp"
   ]
  },
  {
   "cell_type": "markdown",
   "id": "6b4a636a",
   "metadata": {},
   "source": [
    "另一個解，reverse三次，不用額外memory"
   ]
  },
  {
   "cell_type": "code",
   "execution_count": 6,
   "id": "54b4d972",
   "metadata": {},
   "outputs": [],
   "source": [
    "class Solution:\n",
    "    def reverse (self, nums, i, j) : \n",
    "        li = i\n",
    "        ri = j\n",
    "        \n",
    "        while li < ri:\n",
    "            temp = nums[li]\n",
    "            nums[li] = nums[ri]\n",
    "            nums[ri] = temp\n",
    "            \n",
    "            li += 1\n",
    "            ri -= 1\n",
    "    def rotate(self, nums: List[int], k: int) -> None:\n",
    "        \"\"\"\n",
    "        Do not return anything, modify nums in-place instead.\n",
    "        \"\"\"\n",
    "        k = k % len(nums)\n",
    "        if k < 0 : \n",
    "            k += len(nums)\n",
    "        \n",
    "        self.reverse(nums, 0, len(nums) - k - 1);\n",
    "        self.reverse(nums, len(nums) - k, len(nums) - 1);\n",
    "        self.reverse(nums, 0, len(nums) - 1);"
   ]
  },
  {
   "cell_type": "markdown",
   "id": "816c647e",
   "metadata": {},
   "source": [
    "# Contains Duplicate"
   ]
  },
  {
   "cell_type": "markdown",
   "id": "2e67e2ec",
   "metadata": {},
   "source": [
    "Given an integer array nums, return true if any value appears at least twice in the array, and return false if every element is distinct."
   ]
  },
  {
   "cell_type": "markdown",
   "id": "03e29ec7",
   "metadata": {},
   "source": [
    "思考:用set觀察長度是否變化\\\n",
    "Time complexity: O(n)\\\n",
    "Space complexity: O(n)"
   ]
  },
  {
   "cell_type": "code",
   "execution_count": 7,
   "id": "41e2dd89",
   "metadata": {},
   "outputs": [],
   "source": [
    "class Solution:\n",
    "    def containsDuplicate(self, nums: List[int]) -> bool:\n",
    "        tmp = set(nums)\n",
    "        if len(tmp)==len(nums):\n",
    "            return False\n",
    "        else:\n",
    "            return True"
   ]
  },
  {
   "cell_type": "markdown",
   "id": "5448bffa",
   "metadata": {},
   "source": [
    "另外的解，不要一開始全部轉set，一步一步檢查element有沒有在set並加入，比較慢\\\n",
    "Time complexity: O(n)\\\n",
    "Space complexity: O(n)"
   ]
  },
  {
   "cell_type": "code",
   "execution_count": 8,
   "id": "3007c471",
   "metadata": {},
   "outputs": [],
   "source": [
    "class Solution(object):\n",
    "    def containsDuplicate(self, nums):\n",
    "        hset = set()\n",
    "        for idx in nums:\n",
    "            if idx in hset:\n",
    "                return True\n",
    "            else:\n",
    "                hset.add(idx)"
   ]
  },
  {
   "cell_type": "markdown",
   "id": "4517e17c",
   "metadata": {},
   "source": [
    "# Single Number"
   ]
  },
  {
   "cell_type": "markdown",
   "id": "ae30507e",
   "metadata": {},
   "source": [
    "Given a non-empty array of integers nums, every element appears twice except for one. Find that single one.\n",
    "\n",
    "You must implement a solution with a linear runtime complexity and use only constant extra space."
   ]
  },
  {
   "cell_type": "markdown",
   "id": "9c1032ba",
   "metadata": {},
   "source": [
    "思考:用set逐一count element數量，每次count整個list很耗時\\\n",
    "Time complexity: O(n)\\\n",
    "Space complexity: O(n)"
   ]
  },
  {
   "cell_type": "code",
   "execution_count": 9,
   "id": "e02f55ba",
   "metadata": {},
   "outputs": [],
   "source": [
    "class Solution:\n",
    "    def singleNumber(self, nums: List[int]) -> int:\n",
    "        hset = set(nums)\n",
    "        for idx in hset:\n",
    "            if nums.count(idx)==1:\n",
    "                return idx"
   ]
  },
  {
   "cell_type": "markdown",
   "id": "fc8763f1",
   "metadata": {},
   "source": [
    "用XOR二元邏輯運算^，XOR具結合律\\\n",
    "2 XOR 2 XOR 1 XOR 3 XOR 1\\\n",
    "= (2 XOR 2) XOR (1 XOR 1) XOR 3 \\\n",
    "= 0 XOR 0 XOR 3 \\\n",
    "= 3"
   ]
  },
  {
   "cell_type": "code",
   "execution_count": 10,
   "id": "6b80c2b4",
   "metadata": {},
   "outputs": [],
   "source": [
    "class Solution:\n",
    "    def singleNumber(self, nums: List[int]) -> int:\n",
    "        xor = 0\n",
    "        for num in nums:\n",
    "            xor ^= num\n",
    "        \n",
    "        return xor"
   ]
  },
  {
   "cell_type": "markdown",
   "id": "80b6e94d",
   "metadata": {},
   "source": [
    "# Intersection of Two Arrays II"
   ]
  },
  {
   "cell_type": "markdown",
   "id": "c6d004d5",
   "metadata": {},
   "source": [
    "Given two integer arrays nums1 and nums2, return an array of their intersection. Each element in the result must appear as many times as it shows in both arrays and you may return the result in any order."
   ]
  },
  {
   "cell_type": "markdown",
   "id": "0ca77775",
   "metadata": {},
   "source": [
    "思考:set兩個array，逐一檢查element是否兩個set都有，extend count最小值數量\\\n",
    "有點慢\n",
    "Time complexity: O(n^3)\\\n",
    "Space complexity: O(n)"
   ]
  },
  {
   "cell_type": "code",
   "execution_count": 11,
   "id": "e0171041",
   "metadata": {},
   "outputs": [],
   "source": [
    "class Solution:\n",
    "    def intersect(self, nums1: List[int], nums2: List[int]) -> List[int]:\n",
    "        hset1=set(nums1)\n",
    "        hset2=set(nums2)\n",
    "        res = []\n",
    "        for idx1 in hset1:\n",
    "            if idx1 in hset2:\n",
    "                tmp = [idx1]*min(nums1.count(idx1), nums2.count(idx1))\n",
    "                res.extend(tmp)\n",
    "        return res"
   ]
  },
  {
   "cell_type": "markdown",
   "id": "5101a156",
   "metadata": {},
   "source": [
    "用dictionary"
   ]
  },
  {
   "cell_type": "code",
   "execution_count": 12,
   "id": "5d412750",
   "metadata": {},
   "outputs": [],
   "source": [
    "class Solution:\n",
    "    def intersect(self, nums1: List[int], nums2: List[int]) -> List[int]:\n",
    "        res=[]\n",
    "        dict1={}\n",
    "        for num in nums1:\n",
    "            dict1[num]=dict1.get(num,0)+1\n",
    "        for num in nums2:\n",
    "            if num in dict1 and dict1[num]>0:\n",
    "                res.append(num)\n",
    "                dict1[num]-=1\n",
    "        return res"
   ]
  },
  {
   "cell_type": "markdown",
   "id": "b4e8e1a8",
   "metadata": {},
   "source": [
    "# Plus One"
   ]
  },
  {
   "cell_type": "markdown",
   "id": "0c131f0c",
   "metadata": {},
   "source": [
    "You are given a large integer represented as an integer array digits, where each digits[i] is the ith digit of the integer. The digits are ordered from most significant to least significant in left-to-right order. The large integer does not contain any leading 0's.\n",
    "\n",
    "Increment the large integer by one and return the resulting array of digits."
   ]
  },
  {
   "cell_type": "markdown",
   "id": "ea5739b2",
   "metadata": {},
   "source": [
    "思考:考慮進位問題，先reverse從個位數處理，最後再reverse回去，56.43%\\\n",
    "Time complexity: O(n)\\\n",
    "Space complexity: O(n)"
   ]
  },
  {
   "cell_type": "code",
   "execution_count": 13,
   "id": "f07c97cb",
   "metadata": {},
   "outputs": [],
   "source": [
    "class Solution:\n",
    "    def plusOne(self, digits: List[int]) -> List[int]:\n",
    "        def reverse(arr, li, ri):\n",
    "            if li < ri:\n",
    "                arr[li], arr[ri] = arr[ri], arr[li]\n",
    "                reverse(arr, li+1, ri-1)\n",
    "        reverse(digits, 0, len(digits)-1)\n",
    "        for i in range(len(digits)):\n",
    "            if digits[i]>=9:\n",
    "                if i==len(digits)-1:\n",
    "                    digits.append(1)\n",
    "                    digits[i]=0\n",
    "                    break\n",
    "                else:\n",
    "                    digits[i]=0\n",
    "            else:\n",
    "                digits[i]+=1\n",
    "                break\n",
    "        reverse(digits, 0, len(digits)-1)\n",
    "        return digits"
   ]
  },
  {
   "cell_type": "markdown",
   "id": "c905ecee",
   "metadata": {},
   "source": [
    "另一解，轉成large integer+1再轉回去，41.5%"
   ]
  },
  {
   "cell_type": "code",
   "execution_count": 14,
   "id": "7cf266b6",
   "metadata": {},
   "outputs": [],
   "source": [
    "class Solution:\n",
    "    def plusOne(self, digits: List[int]) -> List[int]:\n",
    "        num = 0\n",
    "        for i in range(len(digits)):\n",
    "            num+=digits[i]*10**(len(digits)-i-1)\n",
    "        num+=1\n",
    "        res=[int(s) for s in str(num)]\n",
    "        return res"
   ]
  },
  {
   "cell_type": "markdown",
   "id": "a6ebeab0",
   "metadata": {},
   "source": [
    "Recursive"
   ]
  },
  {
   "cell_type": "code",
   "execution_count": 15,
   "id": "9dcd8524",
   "metadata": {},
   "outputs": [],
   "source": [
    "class Solution:\n",
    "    def plusOne(self, digits: List[int]) -> List[int]:\n",
    "        if digits[-1] < 9:\n",
    "            digits[-1] += 1\n",
    "            return digits\n",
    "        elif len(digits) == 1 and digits[0] == 9:\n",
    "            return [1, 0]\n",
    "        else:\n",
    "            digits[-1] = 0\n",
    "            digits[0:-1] = self.plusOne(digits[0:-1])\n",
    "            return digits"
   ]
  },
  {
   "cell_type": "markdown",
   "id": "153aab56",
   "metadata": {},
   "source": [
    "# Move Zeroes"
   ]
  },
  {
   "cell_type": "markdown",
   "id": "b5fc0773",
   "metadata": {},
   "source": [
    "Given an integer array nums, move all 0's to the end of it while maintaining the relative order of the non-zero elements.\n",
    "\n",
    "Note that you must do this in-place without making a copy of the array."
   ]
  },
  {
   "cell_type": "markdown",
   "id": "beca4ce5",
   "metadata": {},
   "source": [
    "思考:遍歷array，當遇到0時和後面不為0的值交換\\\n",
    "超級慢"
   ]
  },
  {
   "cell_type": "code",
   "execution_count": 16,
   "id": "98a7a068",
   "metadata": {},
   "outputs": [],
   "source": [
    "class Solution:\n",
    "    def moveZeroes(self, nums: List[int]) -> None:\n",
    "        \"\"\"\n",
    "        Do not return anything, modify nums in-place instead.\n",
    "        \"\"\"\n",
    "        len_n=len(nums)\n",
    "        for i in range(len(nums)):\n",
    "            if nums[i]==0 and i+1<len_n:\n",
    "                for j in range(i+1, len_n):\n",
    "                    if nums[j]!=0:\n",
    "                        nums[i], nums[j] = nums[j], nums[i]\n",
    "                        break\n",
    "                    elif j==len_n-1:\n",
    "                        return"
   ]
  },
  {
   "cell_type": "markdown",
   "id": "e6c8f726",
   "metadata": {},
   "source": [
    "改善，雙指標，p0為慢指針，p1為快指針，p0為已處裡完非0元素下一個位置\\\n",
    "Time complexity: O(n)\\\n",
    "Space complexity: O(1)"
   ]
  },
  {
   "cell_type": "code",
   "execution_count": 17,
   "id": "2a51b82f",
   "metadata": {},
   "outputs": [],
   "source": [
    "class Solution:\n",
    "    def moveZeroes(self, nums: List[int]) -> None:\n",
    "        \"\"\"\n",
    "        Do not return anything, modify nums in-place instead.\n",
    "        \"\"\"\n",
    "        p0=0\n",
    "        for p1 in range(len(nums)):\n",
    "            if nums[p1]!=0:\n",
    "                nums[p0], nums[p1] = nums[p1], nums[p0]\n",
    "                p0+=1"
   ]
  },
  {
   "cell_type": "markdown",
   "id": "afae8cd0",
   "metadata": {},
   "source": [
    "遇到0 del掉，最後再接回去\\\n",
    "32.9%\\\n",
    "Time complexity: O(n)\\\n",
    "Space complexity: O(1)"
   ]
  },
  {
   "cell_type": "code",
   "execution_count": 18,
   "id": "f14faaf2",
   "metadata": {},
   "outputs": [],
   "source": [
    "class Solution:\n",
    "    def moveZeroes(self, nums: List[int]) -> None:\n",
    "        \"\"\"\n",
    "        Do not return anything, modify nums in-place instead.\n",
    "        \"\"\"\n",
    "        count=0\n",
    "        i=0\n",
    "        while i < len(nums):\n",
    "            if nums[i]==0:\n",
    "                del nums[i]\n",
    "                count+=1\n",
    "            else:\n",
    "                i+=1\n",
    "        nums.extend([0]*count)"
   ]
  },
  {
   "cell_type": "markdown",
   "id": "dcd03caf",
   "metadata": {},
   "source": [
    "# Two Sum\n",
    "Given an array of integers nums and an integer target, return indices of the two numbers such that they add up to target.\n",
    "\n",
    "You may assume that each input would have exactly one solution, and you may not use the same element twice.\n",
    "\n",
    "You can return the answer in any order."
   ]
  },
  {
   "cell_type": "markdown",
   "id": "f9eaf209",
   "metadata": {},
   "source": [
    "思考:單純用兩個迴圈相加\\\n",
    "有點慢，29.98%\\\n",
    "Time complexity: O(n^2)"
   ]
  },
  {
   "cell_type": "code",
   "execution_count": 19,
   "id": "2b307793",
   "metadata": {},
   "outputs": [],
   "source": [
    "class Solution:\n",
    "    def twoSum(self, nums: List[int], target: int) -> List[int]:\n",
    "        for i in range(len(nums)-1):\n",
    "            for j in range(i+1, len(nums)):\n",
    "                if nums[i]+nums[j]==target:\n",
    "                    return [i,j]"
   ]
  },
  {
   "cell_type": "markdown",
   "id": "0d9bff99",
   "metadata": {},
   "source": [
    "用target-nums[i]去找另一個pair\\\n",
    "39.91%"
   ]
  },
  {
   "cell_type": "code",
   "execution_count": 20,
   "id": "c60e24b7",
   "metadata": {},
   "outputs": [],
   "source": [
    "class Solution:\n",
    "    def twoSum(self, nums: List[int], target: int) -> List[int]:\n",
    "        for i in range(len(nums)-1):\n",
    "            if target-nums[i] in nums[i+1:]:\n",
    "                j = nums[i+1:].index(target-nums[i])+i+1\n",
    "                if i!=j:\n",
    "                    return [i, j]"
   ]
  },
  {
   "cell_type": "markdown",
   "id": "74c6dacd",
   "metadata": {},
   "source": [
    "用hash table儲存\\\n",
    "96.6%\\\n",
    "TC:O(n), SC:O(n)"
   ]
  },
  {
   "cell_type": "code",
   "execution_count": 21,
   "id": "61c9207d",
   "metadata": {},
   "outputs": [],
   "source": [
    "class Solution:\n",
    "    def twoSum(self, nums: List[int], target: int) -> List[int]:\n",
    "        hashtable={}\n",
    "        for i in range(len(nums)):\n",
    "            v = target-nums[i]\n",
    "            if v in hashtable:\n",
    "                return [hashtable[v], i]\n",
    "            hashtable[nums[i]]=i"
   ]
  },
  {
   "cell_type": "markdown",
   "id": "deb2ca39",
   "metadata": {},
   "source": [
    "# Valid Sudoku\n",
    "Determine if a 9 x 9 Sudoku board is valid. Only the filled cells need to be validated according to the following rules:\n",
    "\n",
    "Each row must contain the digits 1-9 without repetition.\n",
    "Each column must contain the digits 1-9 without repetition.\n",
    "Each of the nine 3 x 3 sub-boxes of the grid must contain the digits 1-9 without repetition."
   ]
  },
  {
   "cell_type": "markdown",
   "id": "da0c59db",
   "metadata": {},
   "source": [
    "思考: 數獨矩陣對稱，土法煉鋼分別判對行、列和3x3sub-box有無重複\\\n",
    "50.49%\n",
    "因矩陣大小固定，TC: O(1)"
   ]
  },
  {
   "cell_type": "code",
   "execution_count": 22,
   "id": "92cf379b",
   "metadata": {},
   "outputs": [],
   "source": [
    "class Solution:\n",
    "    def isValidSudoku(self, board: List[List[str]]) -> bool:\n",
    "        for i in range(len(board)):\n",
    "            dict_i={}\n",
    "            dict_j={}\n",
    "            \n",
    "            for j in range(len(board[i])):\n",
    "                dict_i[board[i][j]]=dict_i.get(board[i][j],0)+1\n",
    "                dict_j[board[j][i]]=dict_j.get(board[j][i],0)+1\n",
    "                \n",
    "            for k in dict_i:\n",
    "                if k != \".\" and dict_i[k] >1:\n",
    "                    return False\n",
    "            for k in dict_j:\n",
    "                if k != \".\" and dict_j[k] >1:\n",
    "                    return False\n",
    "            if i %3 ==0:\n",
    "                for j in range(3):\n",
    "                    dict_k={}\n",
    "                    for jj in range(3):\n",
    "                        for jjj in range(3):\n",
    "                            dict_k[board[i+jj][j*3+jjj]]=dict_k.get(board[i+jj][j*3+jjj],0)+1\n",
    "                    for k in dict_k:\n",
    "                        if k != \".\" and dict_k[k] >1:\n",
    "                            return False\n",
    "        return True"
   ]
  },
  {
   "cell_type": "markdown",
   "id": "aa7b316c",
   "metadata": {},
   "source": [
    "有9個row，9個col，9個box，建立檢查用的陣列以比對"
   ]
  },
  {
   "cell_type": "code",
   "execution_count": 23,
   "id": "4430e183",
   "metadata": {},
   "outputs": [],
   "source": [
    "class Solution:\n",
    "    def isValidSudoku(self, board: List[List[str]]) -> bool:\n",
    "        rows=[[0] *9 for _ in range(9)]\n",
    "        cols=[[0] *9 for _ in range(9)]\n",
    "        boxes=[[0] *9 for _ in range(9)]\n",
    "        for i in range(9):\n",
    "            for j in range(9):\n",
    "                if board[i][j]!=\".\":\n",
    "                    num = int(board[i][j])-1\n",
    "                    rows[i][num]+=1\n",
    "                    cols[j][num]+=1\n",
    "                    box_index=i//3*3+j//3\n",
    "                    boxes[box_index][num]+=1\n",
    "                    if rows[i][num]>1 or cols[j][num]>1 or boxes[box_index][num]>1:\n",
    "                        return False\n",
    "        return True"
   ]
  },
  {
   "cell_type": "markdown",
   "id": "ca176629",
   "metadata": {},
   "source": [
    "# Rotate Image\n",
    "You are given an n x n 2D matrix representing an image, rotate the image by 90 degrees (clockwise).\n",
    "\n",
    "You have to rotate the image in-place, which means you have to modify the input 2D matrix directly. DO NOT allocate another 2D matrix and do the rotation."
   ]
  },
  {
   "cell_type": "markdown",
   "id": "c973defb",
   "metadata": {},
   "source": [
    "思考: 複製一個matrix，再依新座標賦值\\\n",
    "97.93%\\\n",
    "TC: O(n^2)\\\n",
    "SC: O(n)\\\n",
    "題目禁止分配另一個矩陣"
   ]
  },
  {
   "cell_type": "code",
   "execution_count": 24,
   "id": "1cd81166",
   "metadata": {},
   "outputs": [],
   "source": [
    "class Solution:\n",
    "    def rotate(self, matrix: List[List[int]]) -> None:\n",
    "        \"\"\"\n",
    "        Do not return anything, modify matrix in-place instead.\n",
    "        \"\"\"\n",
    "        n = len(matrix)\n",
    "        matrixcopy=[[c for c in r] for r in matrix]\n",
    "        for i in range(n):\n",
    "            for j in range(n):\n",
    "                i2 = n-j-1\n",
    "                j2 = i\n",
    "                matrix[i][j]=matrixcopy[i2][j2]"
   ]
  },
  {
   "cell_type": "markdown",
   "id": "b0fd9631",
   "metadata": {},
   "source": [
    "先轉置，再反轉，注意轉置時j是半矩陣\\\n",
    "TC: O(n^2)\\\n",
    "SC: O(1)"
   ]
  },
  {
   "cell_type": "code",
   "execution_count": 25,
   "id": "347ac073",
   "metadata": {},
   "outputs": [],
   "source": [
    "class Solution:\n",
    "    def rotate(self, matrix: List[List[int]]) -> None:\n",
    "        \"\"\"\n",
    "        Do not return anything, modify matrix in-place instead.\n",
    "        \"\"\"\n",
    "        n = len(matrix)\n",
    "        for i in range(n):\n",
    "            for j in range(i, n):\n",
    "                matrix[i][j], matrix[j][i] = matrix[j][i], matrix[i][j]\n",
    "                \n",
    "        for i in range(n):\n",
    "            matrix[i] = matrix[i][::-1]"
   ]
  },
  {
   "cell_type": "code",
   "execution_count": null,
   "id": "db8515a5",
   "metadata": {},
   "outputs": [],
   "source": []
  },
  {
   "cell_type": "code",
   "execution_count": null,
   "id": "46a22132",
   "metadata": {},
   "outputs": [],
   "source": []
  }
 ],
 "metadata": {
  "kernelspec": {
   "display_name": "Python 3 (ipykernel)",
   "language": "python",
   "name": "python3"
  },
  "language_info": {
   "codemirror_mode": {
    "name": "ipython",
    "version": 3
   },
   "file_extension": ".py",
   "mimetype": "text/x-python",
   "name": "python",
   "nbconvert_exporter": "python",
   "pygments_lexer": "ipython3",
   "version": "3.8.10"
  }
 },
 "nbformat": 4,
 "nbformat_minor": 5
}
