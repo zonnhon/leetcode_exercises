{
 "cells": [
  {
   "cell_type": "code",
   "execution_count": 1,
   "id": "0c22718f",
   "metadata": {},
   "outputs": [],
   "source": [
    "from typing import List"
   ]
  },
  {
   "cell_type": "markdown",
   "id": "5516cdca",
   "metadata": {},
   "source": [
    "# Reverse String\n",
    "Write a function that reverses a string. The input string is given as an array of characters s.\n",
    "\n",
    "You must do this by modifying the input array in-place with O(1) extra memory."
   ]
  },
  {
   "cell_type": "markdown",
   "id": "b5a0089c",
   "metadata": {},
   "source": [
    "思考:寫一個recursive把前後對調\\\n",
    "TC: O(n)\\\n",
    "SC: O(1)\\\n",
    "31.66%"
   ]
  },
  {
   "cell_type": "code",
   "execution_count": null,
   "id": "791d2ced",
   "metadata": {},
   "outputs": [],
   "source": [
    "class Solution:\n",
    "    def reverseString(self, s: List[str]) -> None:\n",
    "        \"\"\"\n",
    "        Do not return anything, modify s in-place instead.\n",
    "        \"\"\"\n",
    "        def reverse(arr, li,ri):\n",
    "            if li<ri:\n",
    "                arr[li], arr[ri] = arr[ri], arr[li]\n",
    "                reverse(arr, li+1, ri-1)\n",
    "        reverse(s, 0, len(s)-1)"
   ]
  },
  {
   "cell_type": "markdown",
   "id": "87268700",
   "metadata": {},
   "source": [
    "或是直接迴圈"
   ]
  },
  {
   "cell_type": "code",
   "execution_count": null,
   "id": "aa984ddd",
   "metadata": {},
   "outputs": [],
   "source": [
    "class Solution:\n",
    "    def reverseString(self, s: List[str]) -> None:\n",
    "        \"\"\"\n",
    "        Do not return anything, modify s in-place instead.\n",
    "        \"\"\"\n",
    "        li=0\n",
    "        ri=len(s)-1\n",
    "        while li<ri:\n",
    "            s[li], s[ri] = s[ri], s[li]\n",
    "            li+=1\n",
    "            ri-=1"
   ]
  },
  {
   "cell_type": "markdown",
   "id": "476a50a3",
   "metadata": {},
   "source": [
    "# Reverse Integer\n",
    "Given a signed 32-bit integer x, return x with its digits reversed. If reversing x causes the value to go outside the signed 32-bit integer range [-231, 231 - 1], then return 0."
   ]
  },
  {
   "cell_type": "markdown",
   "id": "579ea98a",
   "metadata": {},
   "source": [
    "思考:轉換成string，判斷負數及位數，逐一乘10 ** i再加回去\\\n",
    "不要忘記範圍在[-2**31, 2**31 - 1]\\\n",
    "TC: O(log(x))\\\n",
    "SC: O(log(x))\\\n",
    "95.23%"
   ]
  },
  {
   "cell_type": "code",
   "execution_count": null,
   "id": "d0cf4bc5",
   "metadata": {},
   "outputs": [],
   "source": [
    "class Solution:\n",
    "    def reverse(self, x: int) -> int:\n",
    "        xx = str(x)\n",
    "        if xx[0]=='-':\n",
    "            b = len(xx)-1\n",
    "            res=0\n",
    "            for i in range(b):\n",
    "                res+=int(xx[i+1])*10**i\n",
    "            if res >2**31:\n",
    "                return 0\n",
    "            else:\n",
    "                return res*-1\n",
    "        else:\n",
    "            b = len(xx)\n",
    "            res=0\n",
    "            for i in range(b):\n",
    "                res+=int(xx[i])*10**i\n",
    "            if res>2**31-1:\n",
    "                return 0\n",
    "            else:\n",
    "                return res"
   ]
  },
  {
   "cell_type": "markdown",
   "id": "2b92562e",
   "metadata": {},
   "source": [
    "不用string，改用//10迭代處理\\\n",
    "注意python在x為負數時取x%10會有問題，如-321%10=9\\\n",
    "先確認正負數在最後乘回去\\\n",
    "TC: O(log(x))\\\n",
    "SC: O(1)"
   ]
  },
  {
   "cell_type": "code",
   "execution_count": 8,
   "id": "5507092c",
   "metadata": {},
   "outputs": [
    {
     "data": {
      "text/plain": [
       "9"
      ]
     },
     "execution_count": 8,
     "metadata": {},
     "output_type": "execute_result"
    }
   ],
   "source": [
    "-321 % 10"
   ]
  },
  {
   "cell_type": "code",
   "execution_count": 9,
   "id": "0ff0759d",
   "metadata": {},
   "outputs": [],
   "source": [
    "class Solution:\n",
    "    def reverse(self, x: int) -> int:\n",
    "        res=0\n",
    "        uplim=2**31-1\n",
    "        downlim=-2**31\n",
    "        if x>0:\n",
    "            s=1\n",
    "        else:\n",
    "            s=-1\n",
    "            x=-1*x\n",
    "        while x!=0:\n",
    "            v = x%10\n",
    "            res=res*10+v\n",
    "            x=int(x//10)\n",
    "            if res < downlim or res > uplim:\n",
    "                return 0\n",
    "            \n",
    "        return res*s"
   ]
  },
  {
   "cell_type": "markdown",
   "id": "b8a3c06a",
   "metadata": {},
   "source": [
    "# First Unique Character in a String\n",
    "Given a string s, find the first non-repeating character in it and return its index. If it does not exist, return -1."
   ]
  },
  {
   "cell_type": "markdown",
   "id": "0ad57dec",
   "metadata": {},
   "source": [
    "思考:用兩個dict裝word的count和index\\\n",
    "TC: O(n)\\\n",
    "SC: O(1) 因字母最多26個\\\n",
    "50.3%"
   ]
  },
  {
   "cell_type": "code",
   "execution_count": 13,
   "id": "b3d2e551",
   "metadata": {},
   "outputs": [],
   "source": [
    "class Solution:\n",
    "    def firstUniqChar(self, s: str) -> int:\n",
    "        dict_n={}\n",
    "        dict_i={}\n",
    "        for i, w in enumerate(s):\n",
    "            if w in dict_n:\n",
    "                dict_n[w]+=1\n",
    "            else:\n",
    "                dict_n[w]=1\n",
    "                dict_i[w]=i\n",
    "        va = list(dict_n.values())\n",
    "        ke = list(dict_n.keys())\n",
    "        if 1 in va:\n",
    "            vi = va.index(1)\n",
    "            k = ke[vi]\n",
    "            return dict_i[k]\n",
    "        else:\n",
    "            return -1"
   ]
  },
  {
   "cell_type": "markdown",
   "id": "69715868",
   "metadata": {},
   "source": [
    "簡化，用兩次遍歷s，不做多餘的轉換"
   ]
  },
  {
   "cell_type": "code",
   "execution_count": null,
   "id": "75537c3f",
   "metadata": {},
   "outputs": [],
   "source": [
    "class Solution:\n",
    "    def firstUniqChar(self, s: str) -> int:\n",
    "        dict_count={}\n",
    "        for w in s:\n",
    "            if w in dict_count:\n",
    "                dict_count[w]+=1\n",
    "            else:\n",
    "                dict_count[w]=1\n",
    "        for i, w in enumerate(s):\n",
    "            if dict_count[w]==1:\n",
    "                return i\n",
    "        return -1"
   ]
  },
  {
   "cell_type": "markdown",
   "id": "47702f00",
   "metadata": {},
   "source": [
    "# Valid Anagram\n",
    "Given two strings s and t, return true if t is an anagram of s, and false otherwise.\n",
    "\n",
    "An Anagram is a word or phrase formed by rearranging the letters of a different word or phrase, typically using all the original letters exactly once."
   ]
  },
  {
   "cell_type": "markdown",
   "id": "1cb7d229",
   "metadata": {},
   "source": [
    "思考: 用dict count字母，先比較字母組成，再比較每個字母數量\\\n",
    "TC: O(n)\\\n",
    "SC: O(1)\\\n",
    "80%"
   ]
  },
  {
   "cell_type": "code",
   "execution_count": null,
   "id": "5055fc8e",
   "metadata": {},
   "outputs": [],
   "source": [
    "class Solution:\n",
    "    def isAnagram(self, s: str, t: str) -> bool:\n",
    "        if len(s)!=len(t):\n",
    "            return False\n",
    "        dict_t = {}\n",
    "        dict_s = {}\n",
    "        for w in t:\n",
    "            if w in dict_t:\n",
    "                dict_t[w]+=1\n",
    "            else:\n",
    "                dict_t[w]=1\n",
    "        for w in s:\n",
    "            if w in dict_s:\n",
    "                dict_s[w]+=1\n",
    "            else:\n",
    "                dict_s[w]=1\n",
    "        if set(list(dict_s.keys())) != set(list(dict_t.keys())):\n",
    "            return False\n",
    "        for k in dict_s.keys():\n",
    "            if dict_s[k] != dict_t[k]:\n",
    "                return False\n",
    "        return True"
   ]
  },
  {
   "cell_type": "markdown",
   "id": "1b549543",
   "metadata": {},
   "source": [
    "另一種解，但比較慢(11%)"
   ]
  },
  {
   "cell_type": "code",
   "execution_count": null,
   "id": "ab967295",
   "metadata": {},
   "outputs": [],
   "source": [
    "class Solution:\n",
    "    def isAnagram(self, s: str, t: str) -> bool:\n",
    "        if len(s) != len(t):\n",
    "            return False\n",
    "        count=[0]*26\n",
    "        for i in range(len(s)):\n",
    "            count[ord(s[i])-ord('a')]+=1\n",
    "            count[ord(t[i])-ord('a')]-=1\n",
    "        for c in count:\n",
    "            if c!=0:\n",
    "                return False\n",
    "        return True"
   ]
  },
  {
   "cell_type": "code",
   "execution_count": null,
   "id": "5f0325aa",
   "metadata": {},
   "outputs": [],
   "source": []
  }
 ],
 "metadata": {
  "kernelspec": {
   "display_name": "Python 3 (ipykernel)",
   "language": "python",
   "name": "python3"
  },
  "language_info": {
   "codemirror_mode": {
    "name": "ipython",
    "version": 3
   },
   "file_extension": ".py",
   "mimetype": "text/x-python",
   "name": "python",
   "nbconvert_exporter": "python",
   "pygments_lexer": "ipython3",
   "version": "3.8.10"
  }
 },
 "nbformat": 4,
 "nbformat_minor": 5
}
