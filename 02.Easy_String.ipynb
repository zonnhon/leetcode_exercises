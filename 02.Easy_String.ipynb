{
 "cells": [
  {
   "cell_type": "code",
   "execution_count": 1,
   "id": "0c22718f",
   "metadata": {},
   "outputs": [],
   "source": [
    "from typing import List"
   ]
  },
  {
   "cell_type": "markdown",
   "id": "5516cdca",
   "metadata": {},
   "source": [
    "# Reverse String\n",
    "Write a function that reverses a string. The input string is given as an array of characters s.\n",
    "\n",
    "You must do this by modifying the input array in-place with O(1) extra memory."
   ]
  },
  {
   "cell_type": "markdown",
   "id": "b5a0089c",
   "metadata": {},
   "source": [
    "思考:寫一個recursive把前後對調\\\n",
    "TC: O(n)\\\n",
    "SC: O(1)\\\n",
    "31.66%"
   ]
  },
  {
   "cell_type": "code",
   "execution_count": 2,
   "id": "791d2ced",
   "metadata": {},
   "outputs": [],
   "source": [
    "class Solution:\n",
    "    def reverseString(self, s: List[str]) -> None:\n",
    "        \"\"\"\n",
    "        Do not return anything, modify s in-place instead.\n",
    "        \"\"\"\n",
    "        def reverse(arr, li,ri):\n",
    "            if li<ri:\n",
    "                arr[li], arr[ri] = arr[ri], arr[li]\n",
    "                reverse(arr, li+1, ri-1)\n",
    "        reverse(s, 0, len(s)-1)"
   ]
  },
  {
   "cell_type": "markdown",
   "id": "87268700",
   "metadata": {},
   "source": [
    "或是直接迴圈"
   ]
  },
  {
   "cell_type": "code",
   "execution_count": 3,
   "id": "aa984ddd",
   "metadata": {},
   "outputs": [],
   "source": [
    "class Solution:\n",
    "    def reverseString(self, s: List[str]) -> None:\n",
    "        \"\"\"\n",
    "        Do not return anything, modify s in-place instead.\n",
    "        \"\"\"\n",
    "        li=0\n",
    "        ri=len(s)-1\n",
    "        while li<ri:\n",
    "            s[li], s[ri] = s[ri], s[li]\n",
    "            li+=1\n",
    "            ri-=1"
   ]
  },
  {
   "cell_type": "markdown",
   "id": "476a50a3",
   "metadata": {},
   "source": [
    "# Reverse Integer\n",
    "Given a signed 32-bit integer x, return x with its digits reversed. If reversing x causes the value to go outside the signed 32-bit integer range [-231, 231 - 1], then return 0."
   ]
  },
  {
   "cell_type": "markdown",
   "id": "579ea98a",
   "metadata": {},
   "source": [
    "思考:轉換成string，判斷負數及位數，逐一乘10 ** i再加回去\\\n",
    "不要忘記範圍在[-2**31, 2**31 - 1]\\\n",
    "TC: O(log(x))\\\n",
    "SC: O(log(x))\\\n",
    "95.23%"
   ]
  },
  {
   "cell_type": "code",
   "execution_count": 4,
   "id": "d0cf4bc5",
   "metadata": {},
   "outputs": [],
   "source": [
    "class Solution:\n",
    "    def reverse(self, x: int) -> int:\n",
    "        xx = str(x)\n",
    "        if xx[0]=='-':\n",
    "            b = len(xx)-1\n",
    "            res=0\n",
    "            for i in range(b):\n",
    "                res+=int(xx[i+1])*10**i\n",
    "            if res >2**31:\n",
    "                return 0\n",
    "            else:\n",
    "                return res*-1\n",
    "        else:\n",
    "            b = len(xx)\n",
    "            res=0\n",
    "            for i in range(b):\n",
    "                res+=int(xx[i])*10**i\n",
    "            if res>2**31-1:\n",
    "                return 0\n",
    "            else:\n",
    "                return res"
   ]
  },
  {
   "cell_type": "markdown",
   "id": "2b92562e",
   "metadata": {},
   "source": [
    "不用string，改用//10迭代處理\\\n",
    "注意python在x為負數時取x%10會有問題，如-321%10=9\\\n",
    "先確認正負數在最後乘回去\\\n",
    "TC: O(log(x))\\\n",
    "SC: O(1)"
   ]
  },
  {
   "cell_type": "code",
   "execution_count": 5,
   "id": "5507092c",
   "metadata": {},
   "outputs": [
    {
     "data": {
      "text/plain": [
       "9"
      ]
     },
     "execution_count": 5,
     "metadata": {},
     "output_type": "execute_result"
    }
   ],
   "source": [
    "-321 % 10"
   ]
  },
  {
   "cell_type": "code",
   "execution_count": 6,
   "id": "0ff0759d",
   "metadata": {},
   "outputs": [],
   "source": [
    "class Solution:\n",
    "    def reverse(self, x: int) -> int:\n",
    "        res=0\n",
    "        uplim=2**31-1\n",
    "        downlim=-2**31\n",
    "        if x>0:\n",
    "            s=1\n",
    "        else:\n",
    "            s=-1\n",
    "            x=-1*x\n",
    "        while x!=0:\n",
    "            v = x%10\n",
    "            res=res*10+v\n",
    "            x=int(x//10)\n",
    "            if res < downlim or res > uplim:\n",
    "                return 0\n",
    "            \n",
    "        return res*s"
   ]
  },
  {
   "cell_type": "markdown",
   "id": "b8a3c06a",
   "metadata": {},
   "source": [
    "# First Unique Character in a String\n",
    "Given a string s, find the first non-repeating character in it and return its index. If it does not exist, return -1."
   ]
  },
  {
   "cell_type": "markdown",
   "id": "0ad57dec",
   "metadata": {},
   "source": [
    "思考:用兩個dict裝word的count和index\\\n",
    "TC: O(n)\\\n",
    "SC: O(1) 因字母最多26個\\\n",
    "50.3%"
   ]
  },
  {
   "cell_type": "code",
   "execution_count": 7,
   "id": "b3d2e551",
   "metadata": {},
   "outputs": [],
   "source": [
    "class Solution:\n",
    "    def firstUniqChar(self, s: str) -> int:\n",
    "        dict_n={}\n",
    "        dict_i={}\n",
    "        for i, w in enumerate(s):\n",
    "            if w in dict_n:\n",
    "                dict_n[w]+=1\n",
    "            else:\n",
    "                dict_n[w]=1\n",
    "                dict_i[w]=i\n",
    "        va = list(dict_n.values())\n",
    "        ke = list(dict_n.keys())\n",
    "        if 1 in va:\n",
    "            vi = va.index(1)\n",
    "            k = ke[vi]\n",
    "            return dict_i[k]\n",
    "        else:\n",
    "            return -1"
   ]
  },
  {
   "cell_type": "markdown",
   "id": "69715868",
   "metadata": {},
   "source": [
    "簡化，用兩次遍歷s，不做多餘的轉換"
   ]
  },
  {
   "cell_type": "code",
   "execution_count": 8,
   "id": "75537c3f",
   "metadata": {},
   "outputs": [],
   "source": [
    "class Solution:\n",
    "    def firstUniqChar(self, s: str) -> int:\n",
    "        dict_count={}\n",
    "        for w in s:\n",
    "            if w in dict_count:\n",
    "                dict_count[w]+=1\n",
    "            else:\n",
    "                dict_count[w]=1\n",
    "        for i, w in enumerate(s):\n",
    "            if dict_count[w]==1:\n",
    "                return i\n",
    "        return -1"
   ]
  },
  {
   "cell_type": "markdown",
   "id": "47702f00",
   "metadata": {},
   "source": [
    "# Valid Anagram\n",
    "Given two strings s and t, return true if t is an anagram of s, and false otherwise.\n",
    "\n",
    "An Anagram is a word or phrase formed by rearranging the letters of a different word or phrase, typically using all the original letters exactly once."
   ]
  },
  {
   "cell_type": "markdown",
   "id": "1cb7d229",
   "metadata": {},
   "source": [
    "思考: 用dict count字母，先比較字母組成，再比較每個字母數量\\\n",
    "TC: O(n)\\\n",
    "SC: O(1)\\\n",
    "80%"
   ]
  },
  {
   "cell_type": "code",
   "execution_count": 9,
   "id": "5055fc8e",
   "metadata": {},
   "outputs": [],
   "source": [
    "class Solution:\n",
    "    def isAnagram(self, s: str, t: str) -> bool:\n",
    "        if len(s)!=len(t):\n",
    "            return False\n",
    "        dict_t = {}\n",
    "        dict_s = {}\n",
    "        for w in t:\n",
    "            if w in dict_t:\n",
    "                dict_t[w]+=1\n",
    "            else:\n",
    "                dict_t[w]=1\n",
    "        for w in s:\n",
    "            if w in dict_s:\n",
    "                dict_s[w]+=1\n",
    "            else:\n",
    "                dict_s[w]=1\n",
    "        if set(list(dict_s.keys())) != set(list(dict_t.keys())):\n",
    "            return False\n",
    "        for k in dict_s.keys():\n",
    "            if dict_s[k] != dict_t[k]:\n",
    "                return False\n",
    "        return True"
   ]
  },
  {
   "cell_type": "markdown",
   "id": "1b549543",
   "metadata": {},
   "source": [
    "另一種解，但比較慢(11%)"
   ]
  },
  {
   "cell_type": "code",
   "execution_count": 10,
   "id": "ab967295",
   "metadata": {},
   "outputs": [],
   "source": [
    "class Solution:\n",
    "    def isAnagram(self, s: str, t: str) -> bool:\n",
    "        if len(s) != len(t):\n",
    "            return False\n",
    "        count=[0]*26\n",
    "        for i in range(len(s)):\n",
    "            count[ord(s[i])-ord('a')]+=1\n",
    "            count[ord(t[i])-ord('a')]-=1\n",
    "        for c in count:\n",
    "            if c!=0:\n",
    "                return False\n",
    "        return True"
   ]
  },
  {
   "cell_type": "markdown",
   "id": "6b80ab16",
   "metadata": {},
   "source": [
    "# Valid Palindrome\n",
    "A phrase is a palindrome if, after converting all uppercase letters into lowercase letters and removing all non-alphanumeric characters, it reads the same forward and backward. Alphanumeric characters include letters and numbers.\n",
    "\n",
    "Given a string s, return true if it is a palindrome, or false otherwise."
   ]
  },
  {
   "cell_type": "markdown",
   "id": "82a6810e",
   "metadata": {},
   "source": [
    "思考: 確認是否為字母或數字(isalnum)，再用雙指標確認是否為回文，注意轉小寫\\\n",
    "34.1%\n",
    "TC: O(n)\n",
    "SC: O(1)"
   ]
  },
  {
   "cell_type": "code",
   "execution_count": 12,
   "id": "c50a67d0",
   "metadata": {},
   "outputs": [],
   "source": [
    "class Solution:\n",
    "    def isPalindrome(self, s: str) -> bool:\n",
    "        ss = []\n",
    "        for si in s:\n",
    "            if si.isalnum():\n",
    "                ss.append(si.lower())\n",
    "        if len(ss)<2:\n",
    "            return True\n",
    "        li = 0\n",
    "        ri = len(ss)-1\n",
    "        print(ss)\n",
    "        while li<ri:\n",
    "            if ss[li]!=ss[ri]:\n",
    "                return False\n",
    "            li+=1\n",
    "            ri-=1\n",
    "        return True\n",
    "        "
   ]
  },
  {
   "cell_type": "markdown",
   "id": "7836ebec",
   "metadata": {},
   "source": [
    "再簡化\\\n",
    "99.17%"
   ]
  },
  {
   "cell_type": "code",
   "execution_count": null,
   "id": "1df3b482",
   "metadata": {},
   "outputs": [],
   "source": [
    "class Solution:\n",
    "    def isPalindrome(self, s: str) -> bool:\n",
    "        if len(s)<2:\n",
    "            return True\n",
    "        li=0\n",
    "        ri=len(s)-1\n",
    "        while li<ri:\n",
    "            if not s[li].isalnum():\n",
    "                li+=1\n",
    "            elif not s[ri].isalnum():\n",
    "                ri-=1\n",
    "            else:\n",
    "                if s[li].lower()!=s[ri].lower():\n",
    "                    return False\n",
    "                li+=1\n",
    "                ri-=1\n",
    "        return True"
   ]
  },
  {
   "cell_type": "markdown",
   "id": "6f5a13db",
   "metadata": {},
   "source": [
    "# String to Integer (atoi)\n",
    "Implement the myAtoi(string s) function, which converts a string to a 32-bit signed integer (similar to C/C++'s atoi function).\n",
    "\n",
    "The algorithm for myAtoi(string s) is as follows:\n",
    "\n",
    "Read in and ignore any leading whitespace.\n",
    "Check if the next character (if not already at the end of the string) is '-' or '+'. Read this character in if it is either. This determines if the final result is negative or positive respectively. Assume the result is positive if neither is present.\n",
    "Read in next the characters until the next non-digit character or the end of the input is reached. The rest of the string is ignored.\n",
    "Convert these digits into an integer (i.e. \"123\" -> 123, \"0032\" -> 32). If no digits were read, then the integer is 0. Change the sign as necessary (from step 2).\n",
    "If the integer is out of the 32-bit signed integer range [-231, 231 - 1], then clamp the integer so that it remains in the range. Specifically, integers less than -231 should be clamped to -231, and integers greater than 231 - 1 should be clamped to 231 - 1.\n",
    "Return the integer as the final result.\n",
    "Note:\n",
    "\n",
    "Only the space character ' ' is considered a whitespace character.\n",
    "Do not ignore any characters other than the leading whitespace or the rest of the string after the digits."
   ]
  },
  {
   "cell_type": "markdown",
   "id": "19f88fe2",
   "metadata": {},
   "source": [
    "思考: 用res表示目前累計，用sign表示是否開始累計及正負，開始累計時sign = 1 or -1，考慮遇到0，space及非數字的情形，是否開始累計處理方式不同，考慮上下限\n",
    "20.06%\\\n",
    "TC O(n);SC O(1)"
   ]
  },
  {
   "cell_type": "code",
   "execution_count": null,
   "id": "647c4dfd",
   "metadata": {},
   "outputs": [],
   "source": [
    "class Solution:\n",
    "    def myAtoi(self, s: str) -> int:\n",
    "        res = 0\n",
    "        sign = 0\n",
    "        res_max=2**31-1\n",
    "        res_min=2**31*-1\n",
    "        for si in s:\n",
    "            if si == ' ':\n",
    "                if sign==0:\n",
    "                    continue\n",
    "                else:\n",
    "                    return res*sign\n",
    "            elif si=='+':\n",
    "                if sign==0:\n",
    "                    sign=1\n",
    "                else:\n",
    "                    return res*sign\n",
    "            elif si=='-':\n",
    "                if sign==0:\n",
    "                    sign=-1\n",
    "                else:\n",
    "                    return res*sign\n",
    "            elif si.isdigit():\n",
    "                if si =='0' and res==0:\n",
    "                    if sign==0:\n",
    "                        sign=1\n",
    "                    continue\n",
    "                else:\n",
    "                    if sign==0:\n",
    "                        sign=1\n",
    "                    res=res*10+int(si)\n",
    "                    if res*sign>=res_max:\n",
    "                        return res_max\n",
    "                    elif res*sign<=res_min:\n",
    "                        return res_min\n",
    "            else:\n",
    "                return res*sign\n",
    "                \n",
    "        return res*sign"
   ]
  },
  {
   "cell_type": "markdown",
   "id": "3727d9a0",
   "metadata": {},
   "source": [
    "單純用指標先處裡非digit字符\\\n",
    "8x%"
   ]
  },
  {
   "cell_type": "code",
   "execution_count": null,
   "id": "bb9757fc",
   "metadata": {},
   "outputs": [],
   "source": [
    "class Solution:\n",
    "    def myAtoi(self, s: str) -> int:\n",
    "        res = 0\n",
    "        sign = 1\n",
    "        len_s = len(s)\n",
    "        res_max=2**31-1\n",
    "        res_min=2**31*-1\n",
    "        i=0\n",
    "        while i<len_s and s[i]==' ':\n",
    "            i+=1\n",
    "            \n",
    "        if  i<len_s and s[i]=='+':\n",
    "            sign=1\n",
    "            i+=1\n",
    "        elif  i<len_s and s[i]=='-':\n",
    "            sign=-1\n",
    "            i+=1\n",
    "            \n",
    "        while i<len_s and s[i].isdigit():\n",
    "            if sign==0:\n",
    "                sign=1\n",
    "            int_si = int(s[i])\n",
    "            res = res*10+int_si\n",
    "            if res*sign>=res_max:\n",
    "                return res_max\n",
    "            elif res*sign<=res_min:\n",
    "                return res_min\n",
    "            i+=1\n",
    "            \n",
    "        return res*sign"
   ]
  },
  {
   "cell_type": "markdown",
   "id": "a0fb014e",
   "metadata": {},
   "source": [
    "# Implement strStr()\n",
    "Given two strings needle and haystack, return the index of the first occurrence of needle in haystack, or -1 if needle is not part of haystack."
   ]
  },
  {
   "cell_type": "markdown",
   "id": "dc127d0d",
   "metadata": {},
   "source": [
    "思考: 用指標遍歷haystack，檢查之後到len(needle)區間字串是否相符，直到長度len(haystack)-len(needle)\n",
    "79.72%\\\n",
    "TC O((n-m+1) * m); SC O(1)"
   ]
  },
  {
   "cell_type": "code",
   "execution_count": 13,
   "id": "cab3b09f",
   "metadata": {},
   "outputs": [],
   "source": [
    "class Solution:\n",
    "    def strStr(self, haystack: str, needle: str) -> int:\n",
    "        if not needle:\n",
    "            return 0\n",
    "        i=0\n",
    "        len_s1=len(haystack)\n",
    "        len_s2=len(needle)\n",
    "        while i<len_s1-len_s2+1:\n",
    "            if haystack[i:i+len_s2]==needle:\n",
    "                return i\n",
    "            i+=1\n",
    "        return -1"
   ]
  },
  {
   "cell_type": "markdown",
   "id": "9543060f",
   "metadata": {},
   "source": [
    "# Longest Common Prefix\n",
    "Write a function to find the longest common prefix string amongst an array of strings.\n",
    "\n",
    "If there is no common prefix, return an empty string \"\"."
   ]
  },
  {
   "cell_type": "markdown",
   "id": "83fb6d67",
   "metadata": {},
   "source": [
    "思考: 當只有一個str，該str即為解。從頭遍歷，直到第i個不符合，或到達list中最短長度，i之前的字串即為解\n",
    "42.12%\\\n",
    "TC O(n*m); SC O(1)"
   ]
  },
  {
   "cell_type": "code",
   "execution_count": null,
   "id": "3ce4059f",
   "metadata": {},
   "outputs": [],
   "source": [
    "class Solution:\n",
    "    def longestCommonPrefix(self, strs: List[str]) -> str:\n",
    "        if len(strs)<2:\n",
    "            return strs[0]\n",
    "        i=0\n",
    "        min_len=min([len(l) for l in strs])\n",
    "        while i<min_len:\n",
    "            for j in range(len(strs)-1):\n",
    "                if strs[j][i] != strs[j+1][i]:\n",
    "                    if i==0:\n",
    "                        return ''\n",
    "                    else:\n",
    "                        return strs[0][:i]\n",
    "            i+=1\n",
    "        return strs[0][:min_len]"
   ]
  },
  {
   "cell_type": "markdown",
   "id": "6da1131f",
   "metadata": {},
   "source": [
    "水平掃描，把第一個str當解，檢查與其他str是否相符，不是再將最後一個字符移除\\\n",
    "99.91%"
   ]
  },
  {
   "cell_type": "code",
   "execution_count": null,
   "id": "688fe928",
   "metadata": {},
   "outputs": [],
   "source": [
    "class Solution:\n",
    "    def longestCommonPrefix(self, strs: List[str]) -> str:\n",
    "        if not strs:\n",
    "            return \"\"\n",
    "\n",
    "        prefix = strs[0]\n",
    "        for string in strs:\n",
    "            while string[:len(prefix)] != prefix:\n",
    "                prefix = prefix[:-1]\n",
    "                if not prefix:\n",
    "                    return \"\"\n",
    "\n",
    "        return prefix"
   ]
  }
 ],
 "metadata": {
  "kernelspec": {
   "display_name": "Python 3 (ipykernel)",
   "language": "python",
   "name": "python3"
  },
  "language_info": {
   "codemirror_mode": {
    "name": "ipython",
    "version": 3
   },
   "file_extension": ".py",
   "mimetype": "text/x-python",
   "name": "python",
   "nbconvert_exporter": "python",
   "pygments_lexer": "ipython3",
   "version": "3.8.10"
  }
 },
 "nbformat": 4,
 "nbformat_minor": 5
}
