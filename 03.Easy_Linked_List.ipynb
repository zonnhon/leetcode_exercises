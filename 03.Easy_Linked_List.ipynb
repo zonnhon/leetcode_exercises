{
 "cells": [
  {
   "cell_type": "code",
   "execution_count": 1,
   "id": "6842e795",
   "metadata": {},
   "outputs": [],
   "source": [
    "from typing import List, Optional"
   ]
  },
  {
   "cell_type": "code",
   "execution_count": 2,
   "id": "16ce0c82",
   "metadata": {},
   "outputs": [],
   "source": [
    "class ListNode:\n",
    "    def __init__(self, x):\n",
    "        self.val = x\n",
    "        self.next = None\n"
   ]
  },
  {
   "cell_type": "markdown",
   "id": "d7f2d794",
   "metadata": {},
   "source": [
    "# Delete Node in a Linked List\n",
    "There is a singly-linked list head and we want to delete a node node in it.\n",
    "\n",
    "You are given the node to be deleted node. You will not be given access to the first node of head.\n",
    "\n",
    "All the values of the linked list are unique, and it is guaranteed that the given node node is not the last node in the linked list.\n",
    "\n",
    "Delete the given node. Note that by deleting the node, we do not mean removing it from memory. We mean:\n",
    "\n",
    "The value of the given node should not exist in the linked list.\n",
    "The number of nodes in the linked list should decrease by one.\n",
    "All the values before node should be in the same order.\n",
    "All the values after node should be in the same order.\n",
    "Custom testing:\n",
    "\n",
    "For the input, you should provide the entire linked list head and the node to be given node. node should not be the last node of the list and should be an actual node in the list.\n",
    "We will build the linked list and pass the node to your function.\n",
    "The output will be the entire list after calling your function."
   ]
  },
  {
   "cell_type": "markdown",
   "id": "806ad252",
   "metadata": {},
   "source": [
    "思考: 沒有head要怎麼指定前面node? node不是最後一個，把node替換成node.next\\\n",
    "O(1); O(1)"
   ]
  },
  {
   "cell_type": "code",
   "execution_count": 3,
   "id": "3f2e7e78",
   "metadata": {},
   "outputs": [],
   "source": [
    "# Definition for singly-linked list.\n",
    "# class ListNode:\n",
    "#     def __init__(self, x):\n",
    "#         self.val = x\n",
    "#         self.next = None\n",
    "\n",
    "class Solution:\n",
    "    def deleteNode(self, node):\n",
    "        \"\"\"\n",
    "        :type node: ListNode\n",
    "        :rtype: void Do not return anything, modify node in-place instead.\n",
    "        \"\"\"\n",
    "        node.val = node.next.val\n",
    "        node.next = node.next.next"
   ]
  },
  {
   "cell_type": "markdown",
   "id": "b59bf956",
   "metadata": {},
   "source": [
    "# Remove Nth Node From End of List\n",
    "Given the head of a linked list, remove the nth node from the end of the list and return its head."
   ]
  },
  {
   "cell_type": "markdown",
   "id": "47d85252",
   "metadata": {},
   "source": [
    "思考: 先跑一個迴圈確認長度count，再將count遞減並指向node.next，count==n時將prev指向curr.next\n",
    "28.2%\n",
    "O(2l); O(1)"
   ]
  },
  {
   "cell_type": "code",
   "execution_count": 4,
   "id": "bd2bab03",
   "metadata": {},
   "outputs": [],
   "source": [
    "# Definition for singly-linked list.\n",
    "# class ListNode:\n",
    "#     def __init__(self, val=0, next=None):\n",
    "#         self.val = val\n",
    "#         self.next = next\n",
    "class Solution:\n",
    "    def removeNthFromEnd(self, head: Optional[ListNode], n: int) -> Optional[ListNode]:\n",
    "        if not head:\n",
    "            return head\n",
    "        count = 1\n",
    "        curr = head\n",
    "        while curr.next:\n",
    "            count+=1\n",
    "            curr = curr.next\n",
    "            \n",
    "        if count==1:\n",
    "            return None\n",
    "        if n == count:\n",
    "            return head.next\n",
    "            \n",
    "        \n",
    "        prev = head\n",
    "        curr = head.next\n",
    "        count-=1\n",
    "        while count>0:\n",
    "            if count == n:\n",
    "                prev.next = curr.next\n",
    "                return head\n",
    "            prev = prev.next\n",
    "            curr = prev.next\n",
    "            count-=1"
   ]
  },
  {
   "cell_type": "markdown",
   "id": "bc4d2395",
   "metadata": {},
   "source": [
    "用雙指標，要移除第l-n個，讓fast先走n+1步，即剩下l-n-1步，再一起走到fast完，slow下一個即為要移除的node"
   ]
  },
  {
   "cell_type": "code",
   "execution_count": 5,
   "id": "7b4310c0",
   "metadata": {},
   "outputs": [],
   "source": [
    "# Definition for singly-linked list.\n",
    "# class ListNode:\n",
    "#     def __init__(self, val=0, next=None):\n",
    "#         self.val = val\n",
    "#         self.next = next\n",
    "class Solution:\n",
    "    def removeNthFromEnd(self, head: Optional[ListNode], n: int) -> Optional[ListNode]:\n",
    "        dummy = ListNode(0)\n",
    "        dummy.next = head\n",
    "        slow = dummy\n",
    "        fast = dummy\n",
    "        for _ in range(n+1):\n",
    "            fast = fast.next\n",
    "            \n",
    "        while fast:\n",
    "            fast=fast.next\n",
    "            slow=slow.next\n",
    "        slow.next=slow.next.next\n",
    "        return dummy.next"
   ]
  },
  {
   "cell_type": "markdown",
   "id": "fcdaf44e",
   "metadata": {},
   "source": [
    "# Reverse Linked List\n",
    "Given the head of a singly linked list, reverse the list, and return the reversed list."
   ]
  },
  {
   "cell_type": "markdown",
   "id": "485bd279",
   "metadata": {},
   "source": [
    "思考: 列出prev, curr, next，迴圈中curr將下一個node指向前一個node\\\n",
    "O(n); O(1)"
   ]
  },
  {
   "cell_type": "code",
   "execution_count": 6,
   "id": "45c2e3f0",
   "metadata": {},
   "outputs": [],
   "source": [
    "# Definition for singly-linked list.\n",
    "# class ListNode:\n",
    "#     def __init__(self, val=0, next=None):\n",
    "#         self.val = val\n",
    "#         self.next = next\n",
    "class Solution:\n",
    "    def reverseList(self, head: Optional[ListNode]) -> Optional[ListNode]:\n",
    "        if not head:\n",
    "            return head\n",
    "        \n",
    "        prev = None\n",
    "        curr = head\n",
    "        \n",
    "        while curr:\n",
    "            nxt = curr.next\n",
    "            curr.next = prev\n",
    "            prev = curr\n",
    "            curr = nxt\n",
    "            \n",
    "        return prev"
   ]
  },
  {
   "cell_type": "markdown",
   "id": "463a9e01",
   "metadata": {},
   "source": [
    "# Merge Two Sorted Lists\n",
    "You are given the heads of two sorted linked lists list1 and list2.\n",
    "\n",
    "Merge the two lists in a one sorted list. The list should be made by splicing together the nodes of the first two lists.\n",
    "\n",
    "Return the head of the merged linked list."
   ]
  },
  {
   "cell_type": "markdown",
   "id": "0f0336e7",
   "metadata": {},
   "source": [
    "思考: 先看第一node大小決定list1, list2，list1代表head，比較curr1.next.val與curr2.val，curr2較小則插入\\\n",
    "25.02%\\\n",
    "O(n+m); O(1)"
   ]
  },
  {
   "cell_type": "code",
   "execution_count": null,
   "id": "7d02f472",
   "metadata": {},
   "outputs": [],
   "source": [
    "# Definition for singly-linked list.\n",
    "# class ListNode:\n",
    "#     def __init__(self, val=0, next=None):\n",
    "#         self.val = val\n",
    "#         self.next = next\n",
    "class Solution:\n",
    "    def mergeTwoLists(self, list1: Optional[ListNode], list2: Optional[ListNode]) -> Optional[ListNode]:\n",
    "        if not list1 and not list2:\n",
    "            return list1\n",
    "        if not list1:\n",
    "            return list2\n",
    "        if not list2:\n",
    "            return list1\n",
    "        if list1.val>list2.val:\n",
    "            list1, list2 = list2, list1\n",
    "        head = list1\n",
    "        curr1 = list1\n",
    "        curr2 = list2\n",
    "        while curr1 and curr2:\n",
    "            if curr1.next:\n",
    "                if curr1.next.val > curr2.val:\n",
    "                    tmp = curr2.next\n",
    "                    curr2.next = curr1.next\n",
    "                    curr1.next = curr2\n",
    "                    curr2 = tmp\n",
    "                else:\n",
    "                    curr1 = curr1.next\n",
    "            else:\n",
    "                curr1.next = curr2\n",
    "                return head\n",
    "        return head"
   ]
  },
  {
   "cell_type": "markdown",
   "id": "f592de50",
   "metadata": {},
   "source": [
    "以dummy當頭，用兩路合併技巧"
   ]
  },
  {
   "cell_type": "code",
   "execution_count": null,
   "id": "ab54a360",
   "metadata": {},
   "outputs": [],
   "source": [
    "# Definition for singly-linked list.\n",
    "# class ListNode:\n",
    "#     def __init__(self, val=0, next=None):\n",
    "#         self.val = val\n",
    "#         self.next = next\n",
    "class Solution:\n",
    "    def mergeTwoLists(self, list1: Optional[ListNode], list2: Optional[ListNode]) -> Optional[ListNode]:\n",
    "        dummy = ListNode(0)\n",
    "        pred = dummy\n",
    "        while list1 and list2:\n",
    "            if list1.val<=list2.val:\n",
    "                pred.next = list1\n",
    "                list1 = list1.next\n",
    "                pred = pred.next\n",
    "            else:\n",
    "                pred.next = list2\n",
    "                list2 = list2.next\n",
    "                pred = pred.next\n",
    "        if list1:\n",
    "            pred.next = list1\n",
    "        elif list2:\n",
    "            pred.next = list2\n",
    "        return dummy.next"
   ]
  },
  {
   "cell_type": "markdown",
   "id": "5403b669",
   "metadata": {},
   "source": [
    "# Palindrome Linked List\n",
    "Given the head of a singly linked list, return true if it is a palindrome or false otherwise."
   ]
  },
  {
   "cell_type": "markdown",
   "id": "670fc57a",
   "metadata": {},
   "source": [
    "思考: 回文，先找到中點後一點，若n為奇數half=n/2+0.5，若n為偶數half=n/2+1，將後半段反轉，在比較依序比較兩段的值\\\n",
    "67.58%\\\n",
    "O(n); O(1)"
   ]
  },
  {
   "cell_type": "code",
   "execution_count": 7,
   "id": "81ac1043",
   "metadata": {},
   "outputs": [],
   "source": [
    "# Definition for singly-linked list.\n",
    "# class ListNode:\n",
    "#     def __init__(self, val=0, next=None):\n",
    "#         self.val = val\n",
    "#         self.next = next\n",
    "class Solution:\n",
    "    def isPalindrome(self, head: Optional[ListNode]) -> bool:\n",
    "        if not head.next:\n",
    "            return True\n",
    "        \n",
    "        def find_half(head):\n",
    "            fast = head\n",
    "            slow = head\n",
    "            while fast.next and fast.next.next:\n",
    "                fast = fast.next.next\n",
    "                slow = slow.next\n",
    "            \n",
    "            half_node = slow.next\n",
    "            return half_node\n",
    "        \n",
    "        def reverse(head):\n",
    "            prev = None\n",
    "            curr = head\n",
    "            while curr:\n",
    "                nxt = curr.next\n",
    "                curr.next = prev\n",
    "                prev = curr\n",
    "                curr = nxt\n",
    "                \n",
    "            return prev\n",
    "        \n",
    "        half_node = find_half(head)\n",
    "        head2 = reverse(half_node)\n",
    "        while head and head2:\n",
    "            if head.val != head2.val:\n",
    "                return False\n",
    "            head = head.next\n",
    "            head2 = head2.next\n",
    "        return True\n",
    "        "
   ]
  },
  {
   "cell_type": "markdown",
   "id": "0b877a94",
   "metadata": {},
   "source": [
    "# Linked List Cycle\n",
    "Given head, the head of a linked list, determine if the linked list has a cycle in it.\n",
    "\n",
    "There is a cycle in a linked list if there is some node in the list that can be reached again by continuously following the next pointer. Internally, pos is used to denote the index of the node that tail's next pointer is connected to. Note that pos is not passed as a parameter.\n",
    "\n",
    "Return true if there is a cycle in the linked list. Otherwise, return false."
   ]
  },
  {
   "cell_type": "markdown",
   "id": "35c2d146",
   "metadata": {},
   "source": [
    "思考: 用雙指標，若是循環遲早會碰上\n",
    "74.93%\\\n",
    "O(n); O(1)"
   ]
  },
  {
   "cell_type": "code",
   "execution_count": null,
   "id": "edf88af6",
   "metadata": {},
   "outputs": [],
   "source": [
    "# Definition for singly-linked list.\n",
    "# class ListNode:\n",
    "#     def __init__(self, x):\n",
    "#         self.val = x\n",
    "#         self.next = None\n",
    "\n",
    "class Solution:\n",
    "    def hasCycle(self, head: Optional[ListNode]) -> bool:\n",
    "        if not head:\n",
    "            return False\n",
    "        if not head.next:\n",
    "            return False\n",
    "        fast = head\n",
    "        slow = head\n",
    "        while fast.next and fast.next.next:\n",
    "            fast = fast.next.next\n",
    "            slow = slow.next\n",
    "            if fast == slow:\n",
    "                return True\n",
    "        return False"
   ]
  },
  {
   "cell_type": "code",
   "execution_count": null,
   "id": "d7d03d91",
   "metadata": {},
   "outputs": [],
   "source": []
  }
 ],
 "metadata": {
  "kernelspec": {
   "display_name": "Python 3 (ipykernel)",
   "language": "python",
   "name": "python3"
  },
  "language_info": {
   "codemirror_mode": {
    "name": "ipython",
    "version": 3
   },
   "file_extension": ".py",
   "mimetype": "text/x-python",
   "name": "python",
   "nbconvert_exporter": "python",
   "pygments_lexer": "ipython3",
   "version": "3.8.10"
  }
 },
 "nbformat": 4,
 "nbformat_minor": 5
}
